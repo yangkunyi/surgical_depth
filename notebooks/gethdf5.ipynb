{
 "cells": [
  {
   "cell_type": "code",
   "execution_count": 1,
   "metadata": {},
   "outputs": [],
   "source": [
    "import glob\n",
    "import h5py\n",
    "import os\n",
    "from PIL import Image\n",
    "import numpy as np\n",
    "from tqdm import tqdm"
   ]
  },
  {
   "cell_type": "code",
   "execution_count": 2,
   "metadata": {},
   "outputs": [],
   "source": [
    "img_list = glob.glob('/bd_byta6000i0/users/surgical_depth/SCARED_fixed/**/*.png', recursive=True)"
   ]
  },
  {
   "cell_type": "code",
   "execution_count": 3,
   "metadata": {},
   "outputs": [
    {
     "data": {
      "text/plain": [
       "28857"
      ]
     },
     "execution_count": 3,
     "metadata": {},
     "output_type": "execute_result"
    }
   ],
   "source": [
    "len(img_list)"
   ]
  },
  {
   "cell_type": "code",
   "execution_count": 4,
   "metadata": {},
   "outputs": [
    {
     "name": "stderr",
     "output_type": "stream",
     "text": [
      "Processing: 100%|██████████| 28857/28857 [47:27<00:00, 10.13it/s]  \n"
     ]
    }
   ],
   "source": [
    "with h5py.File('/bd_byta6000i0/users/surgical_depth/SCARED_fixed/scared.hdf5', 'w') as hdf:\n",
    "\n",
    "    for i, sample in enumerate(tqdm(img_list, desc='Processing')):\n",
    "        parts = sample.split(os.sep)\n",
    "        dataset_name = parts[-5]  # 'dataset5'\n",
    "        keyframe_name = parts[-4]  # 'keyframe4'\n",
    "\n",
    "\n",
    "        filename_with_extension = parts[-1]\n",
    "        filename, extension = os.path.splitext(filename_with_extension)\n",
    "        real_number = str(int(filename)).zfill(6)\n",
    "        gt_number = str(int(filename) - 1).zfill(6)\n",
    "\n",
    "\n",
    "        group_name = os.path.join(dataset_name, keyframe_name, real_number)\n",
    "\n",
    "        img = np.array(Image.open(sample).convert('RGB'))\n",
    "\n",
    "\n",
    "        # 修改文件名和目录\n",
    "        parts[-2] = \"data/groundtruth\"  # 将'data'替换为'grundtruth'\n",
    "\n",
    "\n",
    "        new_filename = f\"scene_points{gt_number}.npy\"\n",
    "\n",
    "\n",
    "        parts[-1] = new_filename  \n",
    "\n",
    "        gt_path = os.sep.join(parts)\n",
    "        gt = np.load(gt_path).reshape(1024,1280,1)\n",
    "\n",
    "\n",
    "        if group_name not in hdf:\n",
    "            # 如果组不存在，则创建它\n",
    "            hdf.create_group(group_name)\n",
    "        \n",
    "        group = hdf[group_name]\n",
    "\n",
    "        group.create_dataset(name='image', data=img)\n",
    "        group.create_dataset(name='gt', data=gt)\n",
    "    \n"
   ]
  },
  {
   "cell_type": "code",
   "execution_count": 9,
   "metadata": {},
   "outputs": [],
   "source": [
    "with h5py.File('/bd_byta6000i0/users/surgical_depth/SCARED_fixed/scared.hdf5', 'r') as hdf:\n",
    "    batch = hdf['/dataset5/keyframe4/000001']['image'][:]"
   ]
  },
  {
   "cell_type": "code",
   "execution_count": 10,
   "metadata": {},
   "outputs": [
    {
     "data": {
      "text/plain": [
       "(1024, 1280, 3)"
      ]
     },
     "execution_count": 10,
     "metadata": {},
     "output_type": "execute_result"
    }
   ],
   "source": [
    "batch.shape"
   ]
  },
  {
   "cell_type": "code",
   "execution_count": null,
   "metadata": {},
   "outputs": [],
   "source": []
  }
 ],
 "metadata": {
  "kernelspec": {
   "display_name": "Python 3",
   "language": "python",
   "name": "python3"
  },
  "language_info": {
   "codemirror_mode": {
    "name": "ipython",
    "version": 3
   },
   "file_extension": ".py",
   "mimetype": "text/x-python",
   "name": "python",
   "nbconvert_exporter": "python",
   "pygments_lexer": "ipython3",
   "version": "3.10.14"
  }
 },
 "nbformat": 4,
 "nbformat_minor": 2
}
