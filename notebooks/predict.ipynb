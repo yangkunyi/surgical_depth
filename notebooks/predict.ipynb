{
 "cells": [
  {
   "cell_type": "code",
   "execution_count": 14,
   "metadata": {},
   "outputs": [],
   "source": [
    "import pickle\n",
    "with open('my_data.pkl', 'rb') as f:\n",
    "    # 使用 pickle.load() 从文件中加载对象\n",
    "    loaded_object = pickle.load(f)"
   ]
  },
  {
   "cell_type": "code",
   "execution_count": 25,
   "metadata": {},
   "outputs": [],
   "source": [
    "tensor1 = loaded_object[0]['targets']"
   ]
  },
  {
   "cell_type": "code",
   "execution_count": 26,
   "metadata": {},
   "outputs": [],
   "source": [
    "tensor2 = loaded_object[0]['pred_depth']"
   ]
  },
  {
   "cell_type": "code",
   "execution_count": 30,
   "metadata": {},
   "outputs": [],
   "source": [
    "# 设置阈值\n",
    "threshold = tensor2.max()\n",
    "\n",
    "# 使用布尔索引找到大于阈值的元素\n",
    "mask = tensor1 > threshold\n",
    "\n",
    "# 将大于阈值的元素替换为阈值\n",
    "tensor1[mask] = threshold\n",
    "\n",
    "\n",
    "threshold = tensor2.min()\n",
    "\n",
    "# 使用布尔索引找到大于阈值的元素\n",
    "mask = tensor1 < threshold\n",
    "\n",
    "# 将大于阈值的元素替换为阈值\n",
    "tensor1[mask] = threshold\n",
    "\n",
    "# 打印结果"
   ]
  },
  {
   "cell_type": "code",
   "execution_count": 34,
   "metadata": {},
   "outputs": [
    {
     "data": {
      "text/plain": [
       "tensor(13.7726)"
      ]
     },
     "execution_count": 34,
     "metadata": {},
     "output_type": "execute_result"
    }
   ],
   "source": [
    "tensor2.min()"
   ]
  },
  {
   "cell_type": "code",
   "execution_count": 16,
   "metadata": {},
   "outputs": [],
   "source": [
    "import matplotlib.pyplot as plt"
   ]
  },
  {
   "cell_type": "code",
   "execution_count": 35,
   "metadata": {},
   "outputs": [],
   "source": [
    "batch_idx = 0\n",
    "\n",
    "# 提取指定 batch 的数据\n",
    "batch_data = tensor1[batch_idx]  # 形状为 (channel, frames, height, width)\n",
    "\n",
    "# 迭代每个通道和帧\n",
    "import os\n",
    "save_dir = f\"visualization_batch_0\"\n",
    "os.makedirs(save_dir, exist_ok=True)\n",
    "\n",
    "# 迭代每个通道和帧\n",
    "for channel_idx in range(batch_data.shape[0]):\n",
    "    for frame_idx in range(batch_data.shape[1]):\n",
    "        # 提取单个通道和帧的数据\n",
    "        image_data = batch_data[channel_idx, frame_idx, :, :]\n",
    "\n",
    "        # 使用 matplotlib 显示图像\n",
    "        plt.imshow(image_data, cmap='viridis')\n",
    "        plt.title(f\"Batch: {batch_idx}, Channel: {channel_idx}, Frame: {frame_idx}\")\n",
    "        plt.colorbar()\n",
    "\n",
    "        # 保存图像到文件\n",
    "        plt.savefig(f\"{save_dir}/batch_{batch_idx}_channel_{channel_idx}_frame_{frame_idx}.png\")\n",
    "        plt.close()  # 关闭当前图像，避免内存泄漏"
   ]
  },
  {
   "cell_type": "code",
   "execution_count": 10,
   "metadata": {},
   "outputs": [
    {
     "data": {
      "text/plain": [
       "12"
      ]
     },
     "execution_count": 10,
     "metadata": {},
     "output_type": "execute_result"
    }
   ],
   "source": [
    "batch_data"
   ]
  },
  {
   "cell_type": "code",
   "execution_count": null,
   "metadata": {},
   "outputs": [],
   "source": []
  }
 ],
 "metadata": {
  "kernelspec": {
   "display_name": "cl",
   "language": "python",
   "name": "python3"
  },
  "language_info": {
   "codemirror_mode": {
    "name": "ipython",
    "version": 3
   },
   "file_extension": ".py",
   "mimetype": "text/x-python",
   "name": "python",
   "nbconvert_exporter": "python",
   "pygments_lexer": "ipython3",
   "version": "3.10.13"
  }
 },
 "nbformat": 4,
 "nbformat_minor": 2
}
